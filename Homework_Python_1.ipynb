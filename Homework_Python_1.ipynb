{
 "cells": [
  {
   "cell_type": "markdown",
   "metadata": {},
   "source": [
    "# Part 1 Factorial with inner cache"
   ]
  },
  {
   "cell_type": "code",
   "execution_count": 5,
   "metadata": {},
   "outputs": [],
   "source": [
    "def factorial(n, cache = {}):\n",
    "    if(n==0): return 1\n",
    "    #print(cache)\n",
    "    if n in cache:\n",
    "        return cache[n]\n",
    "    else:\n",
    "        cache[n] = n*factorial(n-1)\n",
    "        return cache[n]"
   ]
  },
  {
   "cell_type": "markdown",
   "metadata": {},
   "source": [
    "# Part 2"
   ]
  },
  {
   "cell_type": "code",
   "execution_count": 6,
   "metadata": {},
   "outputs": [
    {
     "name": "stdout",
     "output_type": "stream",
     "text": [
      "{'f1': 10, 'f2': 15, 'f3': 20}\n"
     ]
    }
   ],
   "source": [
    "class X:\n",
    "    def __init__(self,x):\n",
    "        self.x = x\n",
    "    def f1 (self):\n",
    "        return 2*self.x\n",
    "    def f2 (self):\n",
    "        return 3*self.x\n",
    "    def f3 (self):\n",
    "        return 4*self.x\n",
    "\n",
    "def class_decomposer (obj):\n",
    "    dec = {}\n",
    "    methods = [method for method in obj.__class__.__dict__.keys() if not method.startswith('__')]\n",
    "    for i in methods:\n",
    "        dec[i] = obj.__getattribute__(i)()\n",
    "    return dec\n",
    "\n",
    "obje = X(5)\n",
    "print(class_decomposer(obje))"
   ]
  },
  {
   "cell_type": "markdown",
   "metadata": {},
   "source": [
    "# Part3"
   ]
  },
  {
   "cell_type": "code",
   "execution_count": 7,
   "metadata": {},
   "outputs": [
    {
     "name": "stdout",
     "output_type": "stream",
     "text": [
      "<built-in method __dir__ of Rotation object at 0x7f71f5fa9518>\n",
      "<built-in method __dir__ of Rotation object at 0x7f71f5fa9518>\n",
      "<built-in method __dir__ of Rotation object at 0x7f71f5fa9470>\n",
      "\n",
      "\n",
      "[[3 6 9]\n",
      " [2 5 8]\n",
      " [1 4 7]]\n"
     ]
    }
   ],
   "source": [
    "import numpy as np\n",
    "\n",
    "def rotate(matrix):\n",
    "    \"\"\"\n",
    "        Rotates matrix by 90 degrees anticlockwise...\n",
    "        \n",
    "        (The relation of rotation is congruent to transposition and reversing rows)\n",
    "    \"\"\"\n",
    "    matrix = np.array(matrix)\n",
    "    rotated = matrix.T\n",
    "    rotated = np.flip(rotated,axis=0)\n",
    "    return rotated\n",
    "\n",
    "m = np.array([[1,2,3],[4,5,6],[7,8,9]])\n",
    "\n",
    "    \n",
    "class Rotation: \n",
    "    \n",
    "    instance = {1: 0, 2: 0, 3: 0, 4: 0}\n",
    "    \n",
    "    def __new__ (cls, degree):\n",
    "        if Rotation.instance[(degree/90)%4] == 0:\n",
    "            Rotation.instance[(degree/90)%4]= object.__new__(Rotation)\n",
    "            #print(Rotation.instance[(degree/90)%4])\n",
    "        return Rotation.instance[(degree/90)%4]\n",
    "    \n",
    "    def __init__(self, degree):\n",
    "        assert degree%90 == 0\n",
    "        self.degree = degree\n",
    "    \n",
    "    def __call__(self,matrix):\n",
    "        d = (self.degree/90)%4\n",
    "        res = rotate(matrix)\n",
    "        while d-1 != 0 :\n",
    "            res = rotate(res)\n",
    "            d -= 1\n",
    "        return res\n",
    "    \n",
    "    def __str__(self):\n",
    "        return \"{}\".format(self.__dir__ )\n",
    "    \n",
    "\n",
    "#Checking\n",
    "r270 = Rotation(270)      \n",
    "r450 = Rotation(450)\n",
    "r90 = Rotation(90)\n",
    "print(r450)\n",
    "print(r90)\n",
    "print(r270)\n",
    "print('\\n')\n",
    "print(r450(m))"
   ]
  },
  {
   "cell_type": "markdown",
   "metadata": {},
   "source": [
    "# Part 4 Singleton"
   ]
  },
  {
   "cell_type": "code",
   "execution_count": 8,
   "metadata": {},
   "outputs": [
    {
     "name": "stdout",
     "output_type": "stream",
     "text": [
      "<built-in method __dir__ of Singleton object at 0x7f721c481f28>\n",
      "<built-in method __dir__ of Singleton object at 0x7f721c481f28>\n",
      "<built-in method __dir__ of Singleton object at 0x7f721c481f28>\n"
     ]
    }
   ],
   "source": [
    "class Singleton: \n",
    "    instance = False\n",
    "    \n",
    "    def __new__ (cls):\n",
    "        if not Singleton.instance:\n",
    "            Singleton.instance = object.__new__(Singleton)\n",
    "            return Singleton.instance\n",
    "        else:\n",
    "            return Singleton.instance\n",
    "        \n",
    "    \n",
    "    def __init__(self):\n",
    "        pass\n",
    "    def __str__ (self):\n",
    "        return \"{}\".format(self.__dir__ )\n",
    "    \n",
    "# Checking\n",
    "s = Singleton()\n",
    "d = Singleton()\n",
    "e = Singleton()\n",
    "\n",
    "print(s)\n",
    "print(d)\n",
    "print(e)"
   ]
  }
 ],
 "metadata": {
  "kernelspec": {
   "display_name": "Python 3",
   "language": "python",
   "name": "python3"
  },
  "language_info": {
   "codemirror_mode": {
    "name": "ipython",
    "version": 3
   },
   "file_extension": ".py",
   "mimetype": "text/x-python",
   "name": "python",
   "nbconvert_exporter": "python",
   "pygments_lexer": "ipython3",
   "version": "3.6.5"
  }
 },
 "nbformat": 4,
 "nbformat_minor": 2
}
